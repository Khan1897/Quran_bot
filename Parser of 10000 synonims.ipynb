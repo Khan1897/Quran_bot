{
 "cells": [
  {
   "cell_type": "code",
   "execution_count": 1,
   "id": "81da23bd",
   "metadata": {},
   "outputs": [],
   "source": [
    "import requests\n",
    "\n",
    "from bs4 import BeautifulSoup\n",
    "\n",
    "import re\n",
    "\n",
    "import string\n",
    "\n",
    "import pandas as pd"
   ]
  },
  {
   "cell_type": "code",
   "execution_count": 2,
   "id": "1d077cff",
   "metadata": {},
   "outputs": [],
   "source": [
    "url = 'https://text.ru/synonym/'\n",
    "\n",
    "def find_synonims(word: str):\n",
    "\n",
    "    syn = requests.get(url + word).text\n",
    "    soup = BeautifulSoup(syn, 'html.parser')\n",
    "    table = soup.find('table', {'id': 'table_list_synonym'})\n",
    "    if table is None:\n",
    "        return list()\n",
    "    table = table.find_all('a')\n",
    "    table = list(filter(lambda x: x.isalpha(),[i.text for i in table]))\n",
    "    table = list(map(lambda x: x.lower(), table))\n",
    "    return table\n",
    "\n"
   ]
  },
  {
   "cell_type": "code",
   "execution_count": 93,
   "id": "10228975",
   "metadata": {},
   "outputs": [
    {
     "name": "stdout",
     "output_type": "stream",
     "text": [
      "['достоинство', 'благородство', 'репутация', 'почтение', 'гордость', 'совесть', 'почтительность', 'почет', 'реноме', 'безгрешность', 'почести', 'невинность', 'девственность', 'неиспорченность', 'непорочность', 'целомудрие', 'целомудренность', 'безгреховность', 'чистота']\n"
     ]
    }
   ],
   "source": [
    "print(find_synonims('честь'))"
   ]
  },
  {
   "cell_type": "code",
   "execution_count": 3,
   "id": "1e39ce3b",
   "metadata": {},
   "outputs": [],
   "source": [
    "url2 = 'https://cvetkoff.by/lists/spisok-samyh-chastotnyh-slov-russkogo-yazyka.html#razdel3'"
   ]
  },
  {
   "cell_type": "code",
   "execution_count": 4,
   "id": "a0d5a185",
   "metadata": {},
   "outputs": [],
   "source": [
    "data2 = requests.get(url2).text"
   ]
  },
  {
   "cell_type": "code",
   "execution_count": 5,
   "id": "491a9ede",
   "metadata": {},
   "outputs": [],
   "source": [
    "soup = BeautifulSoup(data2, 'html.parser')"
   ]
  },
  {
   "cell_type": "code",
   "execution_count": 6,
   "id": "0e3ee633",
   "metadata": {},
   "outputs": [],
   "source": [
    "a = soup.find('div', {'class': 'post-body'}).find_all('p')"
   ]
  },
  {
   "cell_type": "code",
   "execution_count": 7,
   "id": "c2062917",
   "metadata": {},
   "outputs": [],
   "source": [
    "words = [ i.text for i in sorted(a, key = len, reverse = True)[:3]]"
   ]
  },
  {
   "cell_type": "code",
   "execution_count": 8,
   "id": "28aac57d",
   "metadata": {},
   "outputs": [],
   "source": [
    "all_words = []\n",
    "for i in words:\n",
    "    m = re.sub('\\d', '', i)\n",
    "    \n",
    "    m = m.translate(str.maketrans('','',string.punctuation))\n",
    "    \n",
    "    all_words.append(m.split('\\n'))\n",
    "    "
   ]
  },
  {
   "cell_type": "code",
   "execution_count": 9,
   "id": "9f4ce44d",
   "metadata": {},
   "outputs": [],
   "source": [
    "final = []\n",
    "for i in all_words:\n",
    "    final.extend(list(map(lambda x: x.strip(), i)))\n",
    "while '' in final:\n",
    "    final.remove('')"
   ]
  },
  {
   "cell_type": "code",
   "execution_count": 10,
   "id": "aa58b597",
   "metadata": {},
   "outputs": [],
   "source": [
    "words_with_syn = pd.DataFrame({'word': [], 'synonim': []})"
   ]
  },
  {
   "cell_type": "code",
   "execution_count": 15,
   "id": "a2a71ef5",
   "metadata": {},
   "outputs": [
    {
     "name": "stdout",
     "output_type": "stream",
     "text": [
      "Nice\n"
     ]
    }
   ],
   "source": [
    "for i in final:\n",
    "    words_with_syn.loc[len(words_with_syn)] = [i, find_synonims(i)[:5]]\n",
    "\n",
    "print('Nice')"
   ]
  },
  {
   "cell_type": "code",
   "execution_count": 13,
   "id": "7570be55",
   "metadata": {},
   "outputs": [],
   "source": [
    "words_with_syn = words_with_syn.iloc[0:0]"
   ]
  },
  {
   "cell_type": "code",
   "execution_count": 14,
   "id": "f83e759d",
   "metadata": {},
   "outputs": [
    {
     "data": {
      "text/html": [
       "<div>\n",
       "<style scoped>\n",
       "    .dataframe tbody tr th:only-of-type {\n",
       "        vertical-align: middle;\n",
       "    }\n",
       "\n",
       "    .dataframe tbody tr th {\n",
       "        vertical-align: top;\n",
       "    }\n",
       "\n",
       "    .dataframe thead th {\n",
       "        text-align: right;\n",
       "    }\n",
       "</style>\n",
       "<table border=\"1\" class=\"dataframe\">\n",
       "  <thead>\n",
       "    <tr style=\"text-align: right;\">\n",
       "      <th></th>\n",
       "      <th>word</th>\n",
       "      <th>synonim</th>\n",
       "    </tr>\n",
       "  </thead>\n",
       "  <tbody>\n",
       "  </tbody>\n",
       "</table>\n",
       "</div>"
      ],
      "text/plain": [
       "Empty DataFrame\n",
       "Columns: [word, synonim]\n",
       "Index: []"
      ]
     },
     "execution_count": 14,
     "metadata": {},
     "output_type": "execute_result"
    }
   ],
   "source": [
    "words_with_syn.head()"
   ]
  },
  {
   "cell_type": "code",
   "execution_count": 17,
   "id": "56dc90d9",
   "metadata": {},
   "outputs": [
    {
     "data": {
      "text/html": [
       "<div>\n",
       "<style scoped>\n",
       "    .dataframe tbody tr th:only-of-type {\n",
       "        vertical-align: middle;\n",
       "    }\n",
       "\n",
       "    .dataframe tbody tr th {\n",
       "        vertical-align: top;\n",
       "    }\n",
       "\n",
       "    .dataframe thead th {\n",
       "        text-align: right;\n",
       "    }\n",
       "</style>\n",
       "<table border=\"1\" class=\"dataframe\">\n",
       "  <thead>\n",
       "    <tr style=\"text-align: right;\">\n",
       "      <th></th>\n",
       "      <th>word</th>\n",
       "      <th>synonim</th>\n",
       "    </tr>\n",
       "  </thead>\n",
       "  <tbody>\n",
       "    <tr>\n",
       "      <th>0</th>\n",
       "      <td>функция</td>\n",
       "      <td>[опция, назначение, роль, возможность, предназ...</td>\n",
       "    </tr>\n",
       "    <tr>\n",
       "      <th>1</th>\n",
       "      <td>войско</td>\n",
       "      <td>[армия, рать, воинство, дружина, орда]</td>\n",
       "    </tr>\n",
       "    <tr>\n",
       "      <th>2</th>\n",
       "      <td>комиссия</td>\n",
       "      <td>[договор, совет, культкомиссия, медкомиссия, п...</td>\n",
       "    </tr>\n",
       "    <tr>\n",
       "      <th>3</th>\n",
       "      <td>применение</td>\n",
       "      <td>[употребление, потребление, приспосабливание, ...</td>\n",
       "    </tr>\n",
       "    <tr>\n",
       "      <th>4</th>\n",
       "      <td>капитан</td>\n",
       "      <td>[командир, кэп, звание, чин, шкипер]</td>\n",
       "    </tr>\n",
       "    <tr>\n",
       "      <th>...</th>\n",
       "      <td>...</td>\n",
       "      <td>...</td>\n",
       "    </tr>\n",
       "    <tr>\n",
       "      <th>9995</th>\n",
       "      <td>большой</td>\n",
       "      <td>[крупный, огромный, внушительный, массивный, н...</td>\n",
       "    </tr>\n",
       "    <tr>\n",
       "      <th>9996</th>\n",
       "      <td>должен</td>\n",
       "      <td>[обязан, необходимо]</td>\n",
       "    </tr>\n",
       "    <tr>\n",
       "      <th>9997</th>\n",
       "      <td>место</td>\n",
       "      <td>[пространство, участок, край, фрагмент, положе...</td>\n",
       "    </tr>\n",
       "    <tr>\n",
       "      <th>9998</th>\n",
       "      <td>иметь</td>\n",
       "      <td>[]</td>\n",
       "    </tr>\n",
       "    <tr>\n",
       "      <th>9999</th>\n",
       "      <td>ничто</td>\n",
       "      <td>[нуль, никто, ничтожество, ноль, пигмей]</td>\n",
       "    </tr>\n",
       "  </tbody>\n",
       "</table>\n",
       "<p>10000 rows × 2 columns</p>\n",
       "</div>"
      ],
      "text/plain": [
       "            word                                            synonim\n",
       "0        функция  [опция, назначение, роль, возможность, предназ...\n",
       "1         войско             [армия, рать, воинство, дружина, орда]\n",
       "2       комиссия  [договор, совет, культкомиссия, медкомиссия, п...\n",
       "3     применение  [употребление, потребление, приспосабливание, ...\n",
       "4        капитан               [командир, кэп, звание, чин, шкипер]\n",
       "...          ...                                                ...\n",
       "9995     большой  [крупный, огромный, внушительный, массивный, н...\n",
       "9996      должен                               [обязан, необходимо]\n",
       "9997       место  [пространство, участок, край, фрагмент, положе...\n",
       "9998       иметь                                                 []\n",
       "9999       ничто           [нуль, никто, ничтожество, ноль, пигмей]\n",
       "\n",
       "[10000 rows x 2 columns]"
      ]
     },
     "execution_count": 17,
     "metadata": {},
     "output_type": "execute_result"
    }
   ],
   "source": [
    "\\"
   ]
  },
  {
   "cell_type": "code",
   "execution_count": 18,
   "id": "423525c7",
   "metadata": {},
   "outputs": [
    {
     "name": "stdout",
     "output_type": "stream",
     "text": [
      "Nice\n"
     ]
    }
   ],
   "source": [
    "words_with_syn.to_excel(r\"D:\\Datasets\\Words_and_synonims.xlsx\")\n",
    "print('Nice')"
   ]
  },
  {
   "cell_type": "code",
   "execution_count": null,
   "id": "bb0a681a",
   "metadata": {},
   "outputs": [],
   "source": []
  }
 ],
 "metadata": {
  "hide_input": false,
  "kernelspec": {
   "display_name": "Python 3 (ipykernel)",
   "language": "python",
   "name": "python3"
  },
  "language_info": {
   "codemirror_mode": {
    "name": "ipython",
    "version": 3
   },
   "file_extension": ".py",
   "mimetype": "text/x-python",
   "name": "python",
   "nbconvert_exporter": "python",
   "pygments_lexer": "ipython3",
   "version": "3.9.12"
  }
 },
 "nbformat": 4,
 "nbformat_minor": 5
}
